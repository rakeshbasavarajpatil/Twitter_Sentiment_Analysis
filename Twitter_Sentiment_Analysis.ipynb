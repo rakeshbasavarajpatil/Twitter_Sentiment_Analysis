{
 "cells": [
  {
   "cell_type": "code",
   "execution_count": 1,
   "metadata": {
    "collapsed": true
   },
   "outputs": [],
   "source": [
    "import tweepy"
   ]
  },
  {
   "cell_type": "code",
   "execution_count": 4,
   "metadata": {},
   "outputs": [],
   "source": [
    "from textblob import TextBlob as tb"
   ]
  },
  {
   "cell_type": "code",
   "execution_count": 8,
   "metadata": {
    "collapsed": true
   },
   "outputs": [],
   "source": [
    "check = tb(\"I am happy with python\")"
   ]
  },
  {
   "cell_type": "code",
   "execution_count": 9,
   "metadata": {},
   "outputs": [
    {
     "data": {
      "text/plain": [
       "[('I', u'PRP'),\n",
       " ('am', u'VBP'),\n",
       " ('happy', u'JJ'),\n",
       " ('with', u'IN'),\n",
       " ('python', u'NN')]"
      ]
     },
     "execution_count": 9,
     "metadata": {},
     "output_type": "execute_result"
    }
   ],
   "source": [
    "check.tags"
   ]
  },
  {
   "cell_type": "code",
   "execution_count": 10,
   "metadata": {},
   "outputs": [
    {
     "data": {
      "text/plain": [
       "WordList(['I', 'am', 'happy', 'with', 'python'])"
      ]
     },
     "execution_count": 10,
     "metadata": {},
     "output_type": "execute_result"
    }
   ],
   "source": [
    "check.words"
   ]
  },
  {
   "cell_type": "code",
   "execution_count": 11,
   "metadata": {},
   "outputs": [
    {
     "data": {
      "text/plain": [
       "0.8"
      ]
     },
     "execution_count": 11,
     "metadata": {},
     "output_type": "execute_result"
    }
   ],
   "source": [
    "check.sentiment.polarity"
   ]
  },
  {
   "cell_type": "code",
   "execution_count": 12,
   "metadata": {
    "collapsed": true
   },
   "outputs": [],
   "source": [
    "#let's authenticate with twitter\n",
    "#consumer key and consumer secret from the keys and access tokens tab on twitter after creating the app in twitter\n",
    "ckey = ''\n",
    "csecret = ''"
   ]
  },
  {
   "cell_type": "code",
   "execution_count": 13,
   "metadata": {
    "collapsed": true
   },
   "outputs": [],
   "source": [
    "#access token and access token secret from the same dashboard\n",
    "atoken = ''\n",
    "atsecret = ''"
   ]
  },
  {
   "cell_type": "code",
   "execution_count": 14,
   "metadata": {
    "collapsed": true
   },
   "outputs": [],
   "source": [
    "#authenticate \n",
    "auth = tweepy.OAuthHandler(ckey,csecret)\n",
    "auth.set_access_token(atoken,atsecret)"
   ]
  },
  {
   "cell_type": "code",
   "execution_count": 15,
   "metadata": {
    "collapsed": true
   },
   "outputs": [],
   "source": [
    "api = tweepy.API(auth)"
   ]
  },
  {
   "cell_type": "code",
   "execution_count": 16,
   "metadata": {
    "collapsed": true
   },
   "outputs": [],
   "source": [
    "#let's try the search method\n",
    "tweets = api.search('arsene wenger')"
   ]
  },
  {
   "cell_type": "code",
   "execution_count": 17,
   "metadata": {},
   "outputs": [
    {
     "name": "stdout",
     "output_type": "stream",
     "text": [
      "As you check out our poll...Whom do you think should take over from Arsene Wenger ? #Arsenal \n",
      "#SportsArena with… https://t.co/MA7M711Gfz\n",
      "Sentiment(polarity=0.0, subjectivity=0.0)\n",
      "RT @GaryLineker: It’s so long since Spurs won an FA Cup semifinal that is was against an Arsenal side not managed by Arsene Wenger.\n",
      "Sentiment(polarity=-0.05, subjectivity=0.4)\n",
      "Alex Ferguson and Arsene Wenger will the two long term coaches who raised the standards of English football\n",
      "#MerciArsène\n",
      "Sentiment(polarity=-0.025, subjectivity=0.2)\n",
      "RT @jeremycorbyn: For the beautiful football and the wonderful memories. Arsène Wenger, I just want to say thank you.\n",
      "\n",
      "https://t.co/KjjZ56Z…\n",
      "Sentiment(polarity=0.925, subjectivity=1.0)\n",
      "RT @Jaack: Woke up to the news that apparently all Arsenal fans actually still respect Arsene Wenger and definitely haven’t been calling hi…\n",
      "Sentiment(polarity=0.016666666666666666, subjectivity=0.31666666666666665)\n",
      "RT @MesutOzil1088: Passion, respect and success-  that is what Arsene Wenger is all about. Thank u for what you've done for us at @Arsenal…\n",
      "Sentiment(polarity=0.3, subjectivity=0.0)\n",
      "PSG – Mercato : Hormis Paris, deux autres clubs français pourraient accueillir Arsène Wenger https://t.co/fzOhna7rwz\n",
      "Sentiment(polarity=0.0, subjectivity=0.0)\n",
      "RT @rednuts99: I’ll always be grateful to Arsene Wenger for introducing Pasta to Britain.  Many people call him the Walter Raleigh of his g…\n",
      "Sentiment(polarity=0.5, subjectivity=0.5)\n",
      "RT @FutballTweets: Rio Ferdinand on Arsène Wenger https://t.co/nZ5ADov7Lj\n",
      "Sentiment(polarity=0.0, subjectivity=0.0)\n",
      "RT @GeniusFootball: BREAKING: Arsene Wenger could join this shocking club after leaving Arsenal. Started from the top and now this..\n",
      "https:…\n",
      "Sentiment(polarity=-0.25, subjectivity=0.75)\n",
      "RT @SoccerAM: Ray Parlour tells a brilliant story about how he prepared for the 2002 FA Cup final, against the orders of Arsene Wenger! The…\n",
      "Sentiment(polarity=0.45, subjectivity=1.0)\n",
      "RT @bbcsport_david: Some detail on the circumstances surrounding Arsene Wenger’s impending departure from Arsenal, the extraordinary day it…\n",
      "Sentiment(polarity=0.3333333333333333, subjectivity=1.0)\n",
      "RT @SemilooreAkoni: When I was younger I always thought Arsene Wenger was the owner of Arsenal because of his name\n",
      "Sentiment(polarity=0.0, subjectivity=0.0)\n",
      "RT @Channel4News: \"He's put up with the most appalling abuse and he's stood it with dignity and stoicism.\"\n",
      "\n",
      "Arsenal fan Jeremy Corbyn talks…\n",
      "Sentiment(polarity=0.07500000000000001, subjectivity=0.7)\n",
      "RT @TrollFootball: Scenes when Arsene Wenger replaces Antonio Conte at Chelsea.\n",
      "Sentiment(polarity=0.0, subjectivity=0.0)\n"
     ]
    }
   ],
   "source": [
    "#let's print it out\n",
    "for tweet in tweets:\n",
    "    print(tweet.text)\n",
    "    senti = tb(tweet.text)\n",
    "    print(senti.sentiment)"
   ]
  },
  {
   "cell_type": "code",
   "execution_count": null,
   "metadata": {
    "collapsed": true
   },
   "outputs": [],
   "source": []
  }
 ],
 "metadata": {
  "kernelspec": {
   "display_name": "Python 2",
   "language": "python",
   "name": "python2"
  },
  "language_info": {
   "codemirror_mode": {
    "name": "ipython",
    "version": 2
   },
   "file_extension": ".py",
   "mimetype": "text/x-python",
   "name": "python",
   "nbconvert_exporter": "python",
   "pygments_lexer": "ipython2",
   "version": "2.7.14"
  }
 },
 "nbformat": 4,
 "nbformat_minor": 2
}
